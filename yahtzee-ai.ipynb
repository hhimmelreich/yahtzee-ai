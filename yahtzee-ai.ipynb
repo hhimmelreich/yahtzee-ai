{
 "cells": [
  {
   "cell_type": "markdown",
   "id": "4f207496-95a5-4372-abed-68c53753ef76",
   "metadata": {},
   "source": [
    "# Yahtzee AI\n",
    "\n",
    "## Rules of Yahtzee\n",
    "\n",
    "Roll 5 dice. Any number of them can be rerolled twice, so 3 times total. Then fill one box corresponding to table below, either with the respective points, or with 0 if one doesn't want to or is not able to do otherwise.\n",
    "\n",
    "| Shape                 | What to score        | Points |\n",
    "| --------------------- | -------------------- | ------ |\n",
    "| Ones                  | Total of Ones only   |        |\n",
    "| Twos                  | Total of Twos only   |        |\n",
    "| Threes                | Total of Threes only |        |\n",
    "| Fours                 | Total of Fours only  |        |\n",
    "| Fives                 | Total of Fives only  |        |\n",
    "| Sixes                 | Total of Sixes only  |        |\n",
    "| If 63+ points above   | 35 point bonus       |        |\n",
    "| 3 of a Kind           | Total of all 5 dice  |        |\n",
    "| 4 of a Kind           | Total of all 5 dice  |        |\n",
    "| Full House            | 25 points            |        |\n",
    "| Small Straight        | 30 points            |        |\n",
    "| Large Straight        | 40 points            |        |\n",
    "| Yahtzee (5 of a kind) | 50 points            |        |\n",
    "| Chance                | Total of all 5 dice  |        |\n",
    "\n",
    "If a minimum of 63 points are achieved in upper section, a 35 point bonus is issued.\n",
    "\n",
    "If one has already rolled a Yahtzee and does so again, they get a 100-point bonus and must score the total of all 5 dice in the correcsponding box in the upper section. If that is already filled in, they can score in any open lower section box with the respective counting rules. If those are all filled, they must enter a zero somewhere in the upper section.\n",
    "\n",
    "If one roles a Yahtzee, but has already entered zero in the Yahtzee box, they do not get a bonus, but can still enter it according to the order described above.\n",
    "\n",
    "The game ends when all 13 boxes are filled, at which point the score is summed up, the more the better.\n",
    "\n",
    "Detailed rules can be found under:\n",
    "https://www.hasbro.com/common/instruct/Yahtzee.pdf"
   ]
  },
  {
   "cell_type": "code",
   "execution_count": 1,
   "id": "e62251a3-651c-4247-91b3-c7cffe3914fd",
   "metadata": {},
   "outputs": [],
   "source": [
    "# Define score card state\n",
    "\n"
   ]
  }
 ],
 "metadata": {
  "kernelspec": {
   "display_name": "Python 3",
   "language": "python",
   "name": "python3"
  },
  "language_info": {
   "codemirror_mode": {
    "name": "ipython",
    "version": 3
   },
   "file_extension": ".py",
   "mimetype": "text/x-python",
   "name": "python",
   "nbconvert_exporter": "python",
   "pygments_lexer": "ipython3",
   "version": "3.6.13"
  }
 },
 "nbformat": 4,
 "nbformat_minor": 5
}
