{
 "cells": [
  {
   "cell_type": "markdown",
   "id": "4f207496-95a5-4372-abed-68c53753ef76",
   "metadata": {},
   "source": [
    "# Yahtzee AI\n",
    "\n",
    "## Rules of Yahtzee\n",
    "\n",
    "Roll 5 dice. Any number of them can be rerolled twice, so 3 times total. Then fill one box corresponding to table below, either with the respective points, or with 0 if one doesn't want to or is not able to do otherwise.\n",
    "\n",
    "| Shape                 | What to score        | Points |\n",
    "| --------------------- | -------------------- | ------ |\n",
    "| Ones                  | Total of Ones only   |        |\n",
    "| Twos                  | Total of Twos only   |        |\n",
    "| Threes                | Total of Threes only |        |\n",
    "| Fours                 | Total of Fours only  |        |\n",
    "| Fives                 | Total of Fives only  |        |\n",
    "| Sixes                 | Total of Sixes only  |        |\n",
    "| If 63+ points above   | 35 point bonus       |        |\n",
    "| 3 of a Kind           | Total of all 5 dice  |        |\n",
    "| 4 of a Kind           | Total of all 5 dice  |        |\n",
    "| Full House            | 25 points            |        |\n",
    "| Small Straight        | 30 points            |        |\n",
    "| Large Straight        | 40 points            |        |\n",
    "| Yahtzee (5 of a kind) | 50 points            |        |\n",
    "| Chance                | Total of all 5 dice  |        |\n",
    "\n",
    "If a minimum of 63 points are achieved in upper section, a 35 point bonus is issued.\n",
    "\n",
    "If one has already rolled a Yahtzee and does so again, they get a 100-point bonus and must score the total of all 5 dice in the correcsponding box in the upper section. If that is already filled in, they can score in any open lower section box with the respective counting rules. If those are all filled, they must enter a zero somewhere in the upper section.\n",
    "\n",
    "If one roles a Yahtzee, but has already entered zero in the Yahtzee box, they do not get a bonus, but can still enter it according to the order described above.\n",
    "\n",
    "The game ends when all 13 boxes are filled, at which point the score is summed up, the more the better.\n",
    "\n",
    "Detailed rules can be found under:\n",
    "https://www.hasbro.com/common/instruct/Yahtzee.pdf"
   ]
  },
  {
   "cell_type": "markdown",
   "id": "af49fbc1-3e89-42ec-b90b-bf50316b14c3",
   "metadata": {},
   "source": [
    "# Thoughts on complexity\n",
    "\n",
    "## Number of possible game states:\n",
    "\n",
    "Ones-Sixes: Empty, Zero, 5 additional score options\n",
    "\n",
    "3/4 of a kind: Empty, Zero, 26 additional score options\n",
    "\n",
    "Full House, Small/Large Straight, Yahtze: Empty, Zero, 1 score option\n",
    "\n",
    "Chance: Empty, Zero, 26 score options\n",
    "\n",
    "Plus 6 possible values for occurences of all 6 numbers in dice role.\n",
    "\n",
    "And 3 options for rolls left (2, 1, none)\n",
    "\n",
    "All in all $7^6 \\cdot 28^2 \\cdot 3^4 \\cdot 28 \\cdot 6^6 \\cdot 3 = ~3x10^{16}$ possible states"
   ]
  },
  {
   "cell_type": "code",
   "execution_count": 58,
   "id": "bd30e147-3965-42f8-891c-403ddc9a6d6d",
   "metadata": {},
   "outputs": [],
   "source": [
    "import numpy as np\n",
    "from numpy.random import default_rng"
   ]
  },
  {
   "cell_type": "code",
   "execution_count": 59,
   "id": "5c20c110-d82d-4de2-89cd-8b1787c2d3d3",
   "metadata": {},
   "outputs": [],
   "source": [
    "# Rolls a specified number of dice and returns them as a tuple\n",
    "def dice_roll(number):\n",
    "    # set up random number generator\n",
    "    rng = default_rng()\n",
    "    roll = rng.integers(1, 7, size=5)\n",
    "    return tuple(roll)"
   ]
  },
  {
   "cell_type": "code",
   "execution_count": 60,
   "id": "e62251a3-651c-4247-91b3-c7cffe3914fd",
   "metadata": {},
   "outputs": [],
   "source": [
    "## Score Card ##\n",
    "# Index 0 # Ones #\n",
    "# Index 1 # Twos #\n",
    "# Index 2 # Threes #\n",
    "# Index 3 # Fours #\n",
    "# Index 4 # Fives #\n",
    "# Index 5 # Sixes #\n",
    "# Index 6 # 3 of a Kind #\n",
    "# Index 7 # 4 of a Kind #\n",
    "# Index 8 # Full House #\n",
    "# Index 9 # Small Straight #\n",
    "# Index 10 # large Straight #\n",
    "# Index 11 # Yahtzee #\n",
    "# Index 12 # Chance #\n",
    "\n",
    "# Initializes score card with -1, representing empty\n",
    "def init_score_card():\n",
    "    return np.full(13, -1)"
   ]
  },
  {
   "cell_type": "code",
   "execution_count": 4,
   "id": "8b56777c-f582-4f43-b6c2-5e82a5ad6765",
   "metadata": {},
   "outputs": [
    {
     "ename": "SyntaxError",
     "evalue": "invalid syntax (<ipython-input-4-3baff8864728>, line 6)",
     "output_type": "error",
     "traceback": [
      "\u001b[1;36m  File \u001b[1;32m\"<ipython-input-4-3baff8864728>\"\u001b[1;36m, line \u001b[1;32m6\u001b[0m\n\u001b[1;33m    match move:\u001b[0m\n\u001b[1;37m             ^\u001b[0m\n\u001b[1;31mSyntaxError\u001b[0m\u001b[1;31m:\u001b[0m invalid syntax\n"
     ]
    }
   ],
   "source": [
    "# Enter move as number between 0 and 12\n",
    "# Computes and returns new score card state and score given\n",
    "# If move is illegal, -1 is returned\n",
    "def make_move(state, move, dice):\n",
    "    score = -1\n",
    "    match move:\n",
    "        case 0 | 1 | 2 | 3 | 4 | 5:\n",
    "            score = count_dice(move, dice)\n",
    "        case 6 | 7 | 12:\n",
    "            score = count_dice(-1, dice)\n",
    "        case 8:\n",
    "            score = 25\n",
    "        case 9:\n",
    "            score = 30\n",
    "        case 10:\n",
    "            score = 40\n",
    "        case 11:\n",
    "            score = 50\n",
    "        case _:\n",
    "            return -1, state\n",
    "        state[move] = score\n",
    "    return state, score"
   ]
  },
  {
   "cell_type": "code",
   "execution_count": 3,
   "id": "6f608961-a328-4ee2-99d7-3a8060698343",
   "metadata": {},
   "outputs": [
    {
     "name": "stdout",
     "output_type": "stream",
     "text": [
      "3.6.13\n"
     ]
    }
   ],
   "source": [
    "from platform import python_version\n",
    "print(python_version())"
   ]
  },
  {
   "cell_type": "code",
   "execution_count": null,
   "id": "027f07ab-c61b-4706-9ad1-ce42fad0ada3",
   "metadata": {},
   "outputs": [],
   "source": []
  },
  {
   "cell_type": "code",
   "execution_count": 57,
   "id": "683ac9ab-1785-40b7-b7f8-0a30f442efde",
   "metadata": {},
   "outputs": [
    {
     "name": "stdout",
     "output_type": "stream",
     "text": [
      "(3, 5, 4, 1, 4)\n",
      "(3, 5, 2, 2, 2)\n",
      "(6, 1, 5, 1, 2)\n",
      "(1, 4, 4, 2, 5)\n",
      "(3, 2, 3, 1, 2)\n",
      "(5, 6, 5, 2, 1)\n",
      "(5, 5, 5, 6, 1)\n",
      "(2, 2, 4, 1, 3)\n",
      "(6, 3, 2, 1, 1)\n",
      "(2, 5, 6, 5, 4)\n",
      "(4, 2, 1, 2, 4)\n",
      "(2, 1, 5, 1, 2)\n",
      "(1, 2, 4, 4, 1)\n",
      "(1, 4, 5, 6, 2)\n",
      "(2, 2, 3, 3, 4)\n",
      "(2, 4, 1, 4, 3)\n",
      "(2, 2, 5, 2, 2)\n",
      "(3, 6, 4, 6, 5)\n",
      "(6, 1, 2, 3, 6)\n",
      "(2, 1, 4, 2, 1)\n"
     ]
    }
   ],
   "source": [
    "# testing\n",
    "\n",
    "for i in range(20):\n",
    "    print(dice_roll(5))"
   ]
  },
  {
   "cell_type": "code",
   "execution_count": null,
   "id": "962a5d9d-fd28-4750-965f-29755bcb341a",
   "metadata": {},
   "outputs": [],
   "source": []
  }
 ],
 "metadata": {
  "kernelspec": {
   "display_name": "Python 3",
   "language": "python",
   "name": "python3"
  },
  "language_info": {
   "codemirror_mode": {
    "name": "ipython",
    "version": 3
   },
   "file_extension": ".py",
   "mimetype": "text/x-python",
   "name": "python",
   "nbconvert_exporter": "python",
   "pygments_lexer": "ipython3",
   "version": "3.6.13"
  }
 },
 "nbformat": 4,
 "nbformat_minor": 5
}
